{
 "cells": [
  {
   "cell_type": "code",
   "execution_count": null,
   "metadata": {},
   "outputs": [],
   "source": [
    "import pandas as pd\n",
    "import statsmodels.api as sm"
   ]
  },
  {
   "cell_type": "code",
   "execution_count": null,
   "metadata": {},
   "outputs": [],
   "source": [
    "\n",
    "\n",
    "weather = pd.read_csv('laporan_iklim_fixed_Nov_2023.csv', index_col = \"Tanggal\")\n",
    "\n",
    "output = weather.apply(pd.isnull).sum()/weather.shape[0]\n",
    "\n",
    "core_weather = weather[[\"Tavg\", \"RH_avg\",\"RR\", \"ss\", \"ff_avg\"]].copy()\n",
    "\n",
    "core_weather.columns = [\"Temp_rata-rata\", \"Kelembapan_rata-rata\",\"Curah-hujan\",\"Lamanya-penyinaran-matahari\",\"durasi_hujan\"]\n",
    "\n",
    "\n",
    "\n",
    "print(output)"
   ]
  },
  {
   "cell_type": "code",
   "execution_count": null,
   "metadata": {},
   "outputs": [],
   "source": [
    "core_weather = core_weather.dropna()  # Untuk menghapus baris yang mengandung nilai-nilai hilang\n",
    "# atau\n",
    "core_weather = core_weather.fillna(core_weather.mean())  # Menggantikan nilai-nilai hilang dengan rata-rata"
   ]
  },
  {
   "cell_type": "code",
   "execution_count": null,
   "metadata": {},
   "outputs": [],
   "source": [
    "for col in core_weather.columns:\n",
    "    min = core_weather[col].min()\n",
    "    max = core_weather[col].max()\n",
    "    core_weather[col +'-scaled'] = (core_weather[col] - min) / ( max - min )\n",
    "core_weather"
   ]
  },
  {
   "cell_type": "code",
   "execution_count": null,
   "metadata": {},
   "outputs": [],
   "source": [
    "# menguji pengaruh kelembapan rata rata, curah hujan, lamanya penyinaran matahari, kecepatan angin rata rata terhadap suhu\n",
    "\n",
    "x_uji1 = sm.add_constant(core_weather[[\"Kelembapan_rata-rata-scaled\",\"Curah-hujan-scaled\",\"Lamanya-penyinaran-matahari-scaled\",\"durasi_hujan-scaled\"]])\n",
    "y_uji1 = core_weather[\"Temp_rata-rata-scaled\"]\n",
    "\n",
    "model1 = sm.OLS(y_uji1,x_uji1).fit()\n",
    "\n",
    "print (model1.summary())\n",
    "\n",
    "\n"
   ]
  },
  {
   "cell_type": "code",
   "execution_count": null,
   "metadata": {},
   "outputs": [],
   "source": [
    "# menguji pengaruh kelembapan rata rata, curah hujan, lamanya penyinaran matahari, kecepatan angin rata rata terhadap suhu\n",
    "\n",
    "x_uji2 = sm.add_constant(core_weather[[\"Temp_rata-rata-scaled\",\"Curah-hujan-scaled\",\"Lamanya-penyinaran-matahari-scaled\",\"durasi_hujan-scaled\"]])\n",
    "y_uji2 = core_weather[\"Kelembapan_rata-rata-scaled\"]\n",
    "\n",
    "model2 = sm.OLS(y_uji2,x_uji2).fit()\n",
    "\n",
    "print (model2.summary())\n",
    "\n",
    "\n"
   ]
  },
  {
   "cell_type": "code",
   "execution_count": null,
   "metadata": {},
   "outputs": [],
   "source": [
    "# menguji pengaruh kelembapan rata rata, curah hujan, lamanya penyinaran matahari, kecepatan angin rata rata terhadap suhu\n",
    "\n",
    "x_uji3 = sm.add_constant(core_weather[[\"Temp_rata-rata-scaled\",\"Kelembapan_rata-rata-scaled\",\"Lamanya-penyinaran-matahari-scaled\",\"durasi_hujan-scaled\"]])\n",
    "y_uji3 = core_weather[\"Curah-hujan-scaled\"]\n",
    "\n",
    "model3 = sm.OLS(y_uji3,x_uji3).fit()\n",
    "\n",
    "print (model3.summary())\n",
    "\n",
    "\n"
   ]
  }
 ],
 "metadata": {
  "language_info": {
   "name": "python"
  }
 },
 "nbformat": 4,
 "nbformat_minor": 2
}
